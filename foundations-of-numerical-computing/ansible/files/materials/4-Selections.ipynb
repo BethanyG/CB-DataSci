{
 "cells": [
  {
   "cell_type": "markdown",
   "metadata": {},
   "source": [
    "# Selections\n",
    "\n",
    "Often when we're working with numpy we're only interested in a portion of the data in our arrays. The `[]` on `ndarray` allows us select portions of the data in the array in a variety of interesting ways.\n",
    "\n",
    "The exercises in this notebook will teach you how to select elements out of arrays in a variety of ways."
   ]
  },
  {
   "cell_type": "code",
   "execution_count": null,
   "metadata": {},
   "outputs": [],
   "source": [
    "import numpy as np\n",
    "\n",
    "rand = np.random.RandomState(42)  # Use a deterministic seed."
   ]
  },
  {
   "cell_type": "markdown",
   "metadata": {},
   "source": [
    "## Exercise: 1-dimensional selection\n",
    "\n",
    "Write expressions to select the following elements from the array:\n",
    "\n",
    "1. first element\n",
    "1. second element\n",
    "1. last element\n",
    "1. second to last element\n",
    "1. first 5 elements\n",
    "1. last 5 elements\n",
    "1. elements at indices 1, 4, 7, and 13\n",
    "1. elements with even indices\n",
    "1. the entire array, in reverse order\n",
    "1. every other element, starting at index 3 (inclusive) ending at index 17 (exclusive)"
   ]
  },
  {
   "cell_type": "code",
   "execution_count": null,
   "metadata": {},
   "outputs": [],
   "source": [
    "array = np.arange(20)"
   ]
  },
  {
   "cell_type": "code",
   "execution_count": null,
   "metadata": {},
   "outputs": [],
   "source": [
    "array[FILL_ME_IN]"
   ]
  },
  {
   "cell_type": "markdown",
   "metadata": {},
   "source": [
    "## Exercise: 2-dimensional selection\n",
    "\n",
    "Write expressions to select the following elements from the array.\n",
    "\n",
    "1. scalar value at coordinates `[3, 6]`\n",
    "1. top-left scalar value\n",
    "1. first row\n",
    "1. first column\n",
    "1. second column\n",
    "1. last column\n",
    "1. first 5 columns\n",
    "1. last 5 columns\n",
    "1. top-left 2 x 2 square\n",
    "1. top-right 2 x 2 square\n",
    "1. last 5 rows from every other column"
   ]
  },
  {
   "cell_type": "code",
   "execution_count": null,
   "metadata": {},
   "outputs": [],
   "source": [
    "array = np.arange(20 * 20).reshape(20, 20)"
   ]
  },
  {
   "cell_type": "code",
   "execution_count": null,
   "metadata": {},
   "outputs": [],
   "source": [
    "array[FILL_ME_IN]"
   ]
  },
  {
   "cell_type": "markdown",
   "metadata": {},
   "source": [
    "## Exercise: N-dimensional selection"
   ]
  },
  {
   "cell_type": "markdown",
   "metadata": {},
   "source": [
    "## Exercise: Selections with boolean arrays."
   ]
  },
  {
   "cell_type": "code",
   "execution_count": null,
   "metadata": {},
   "outputs": [],
   "source": [
    "array = rand.normal(0, 1, 50)"
   ]
  },
  {
   "cell_type": "markdown",
   "metadata": {},
   "source": [
    "Write an expression to select the positive values from the array."
   ]
  },
  {
   "cell_type": "code",
   "execution_count": null,
   "metadata": {},
   "outputs": [],
   "source": []
  },
  {
   "cell_type": "markdown",
   "metadata": {},
   "source": [
    "Write an expression to select the values less than -1 **or** greater than 1.5."
   ]
  },
  {
   "cell_type": "code",
   "execution_count": null,
   "metadata": {},
   "outputs": [],
   "source": [
    "array = rand.normal(0, 1, 50)"
   ]
  },
  {
   "cell_type": "markdown",
   "metadata": {},
   "source": [
    "Write an expression that produces the value from `array` if the value is positive, and produces the **square** of the value if it's negative."
   ]
  },
  {
   "cell_type": "code",
   "execution_count": null,
   "metadata": {},
   "outputs": [],
   "source": [
    "array = np.arange(-5, 5)"
   ]
  },
  {
   "cell_type": "code",
   "execution_count": null,
   "metadata": {},
   "outputs": [],
   "source": [
    "np.where?"
   ]
  },
  {
   "cell_type": "markdown",
   "metadata": {},
   "source": [
    "## Exercise: \"FizzBuzz\"\n",
    "\n",
    "Write an expression that converts `array` into a new array of the same shape according to the following rules:\n",
    "\n",
    "At each index `[i]`\n",
    "\n",
    "- if `array[i]` is divisible by 3: `result[i]` should hold -1\n",
    "- if `array[i]` is divisible by 5: `result[i]` should hold -2\n",
    "- if `array[i]` is divisible by 15, `result[i]` should hold -3\n",
    "- otherwise:`result[i]` should hold `array[i]`\n",
    "\n",
    "(**Hint:** `np.select` works like `np.where`, but it can select from more than two arrays.)"
   ]
  },
  {
   "cell_type": "code",
   "execution_count": null,
   "metadata": {},
   "outputs": [],
   "source": [
    "array = np.arange(1, 100)\n",
    "np.select?"
   ]
  },
  {
   "cell_type": "markdown",
   "metadata": {},
   "source": [
    "## Exercise: N-dimensional FizzBuzz\n",
    "\n",
    "Same rules as above, but on a 3-dimensional array. (HINT: It's possible to write a solution that works for this exercise and the previous one.)"
   ]
  },
  {
   "cell_type": "code",
   "execution_count": null,
   "metadata": {},
   "outputs": [],
   "source": [
    "array = np.arange(1, 100).reshape(3, 11, 3)"
   ]
  }
 ],
 "metadata": {
  "kernelspec": {
   "display_name": "Python 3",
   "language": "python",
   "name": "python3"
  },
  "language_info": {
   "codemirror_mode": {
    "name": "ipython",
    "version": 3
   },
   "file_extension": ".py",
   "mimetype": "text/x-python",
   "name": "python",
   "nbconvert_exporter": "python",
   "pygments_lexer": "ipython3",
   "version": "3.5.2"
  }
 },
 "nbformat": 4,
 "nbformat_minor": 2
}
