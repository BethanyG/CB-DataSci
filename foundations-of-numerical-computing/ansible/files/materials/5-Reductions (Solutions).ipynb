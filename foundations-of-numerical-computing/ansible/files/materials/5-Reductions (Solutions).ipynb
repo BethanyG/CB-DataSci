{
 "cells": [
  {
   "cell_type": "markdown",
   "metadata": {},
   "source": [
    "# Reductions\n",
    "\n",
    "Reductions allow us to compute summary statistics and other useful aggregations over our data.\n",
    "\n",
    "The dataset for these exercises contains minutely price and volume observations for 5 stocks for October of 2017."
   ]
  },
  {
   "cell_type": "code",
   "execution_count": 1,
   "metadata": {},
   "outputs": [
    {
     "data": {
      "text/html": [
       "<div>\n",
       "<style scoped>\n",
       "    .dataframe tbody tr th:only-of-type {\n",
       "        vertical-align: middle;\n",
       "    }\n",
       "\n",
       "    .dataframe tbody tr th {\n",
       "        vertical-align: top;\n",
       "    }\n",
       "\n",
       "    .dataframe thead th {\n",
       "        text-align: right;\n",
       "    }\n",
       "</style>\n",
       "<table border=\"1\" class=\"dataframe\">\n",
       "  <thead>\n",
       "    <tr style=\"text-align: right;\">\n",
       "      <th></th>\n",
       "      <th>AAPL</th>\n",
       "      <th>MSFT</th>\n",
       "      <th>TSLA</th>\n",
       "      <th>MCD</th>\n",
       "      <th>BK</th>\n",
       "    </tr>\n",
       "    <tr>\n",
       "      <th>dt</th>\n",
       "      <th></th>\n",
       "      <th></th>\n",
       "      <th></th>\n",
       "      <th></th>\n",
       "      <th></th>\n",
       "    </tr>\n",
       "  </thead>\n",
       "  <tbody>\n",
       "    <tr>\n",
       "      <th>2017-10-02 13:31:00</th>\n",
       "      <td>154.34</td>\n",
       "      <td>74.880</td>\n",
       "      <td>342.330</td>\n",
       "      <td>156.380</td>\n",
       "      <td>52.736</td>\n",
       "    </tr>\n",
       "    <tr>\n",
       "      <th>2017-10-02 13:32:00</th>\n",
       "      <td>154.07</td>\n",
       "      <td>74.832</td>\n",
       "      <td>341.480</td>\n",
       "      <td>156.660</td>\n",
       "      <td>52.686</td>\n",
       "    </tr>\n",
       "    <tr>\n",
       "      <th>2017-10-02 13:33:00</th>\n",
       "      <td>153.72</td>\n",
       "      <td>74.835</td>\n",
       "      <td>341.830</td>\n",
       "      <td>156.324</td>\n",
       "      <td>52.756</td>\n",
       "    </tr>\n",
       "    <tr>\n",
       "      <th>2017-10-02 13:34:00</th>\n",
       "      <td>153.69</td>\n",
       "      <td>74.890</td>\n",
       "      <td>341.240</td>\n",
       "      <td>156.660</td>\n",
       "      <td>52.726</td>\n",
       "    </tr>\n",
       "    <tr>\n",
       "      <th>2017-10-02 13:35:00</th>\n",
       "      <td>153.45</td>\n",
       "      <td>74.810</td>\n",
       "      <td>341.873</td>\n",
       "      <td>156.670</td>\n",
       "      <td>52.706</td>\n",
       "    </tr>\n",
       "  </tbody>\n",
       "</table>\n",
       "</div>"
      ],
      "text/plain": [
       "                       AAPL    MSFT     TSLA      MCD      BK\n",
       "dt                                                           \n",
       "2017-10-02 13:31:00  154.34  74.880  342.330  156.380  52.736\n",
       "2017-10-02 13:32:00  154.07  74.832  341.480  156.660  52.686\n",
       "2017-10-02 13:33:00  153.72  74.835  341.830  156.324  52.756\n",
       "2017-10-02 13:34:00  153.69  74.890  341.240  156.660  52.726\n",
       "2017-10-02 13:35:00  153.45  74.810  341.873  156.670  52.706"
      ]
     },
     "metadata": {},
     "output_type": "display_data"
    },
    {
     "data": {
      "text/html": [
       "<div>\n",
       "<style scoped>\n",
       "    .dataframe tbody tr th:only-of-type {\n",
       "        vertical-align: middle;\n",
       "    }\n",
       "\n",
       "    .dataframe tbody tr th {\n",
       "        vertical-align: top;\n",
       "    }\n",
       "\n",
       "    .dataframe thead th {\n",
       "        text-align: right;\n",
       "    }\n",
       "</style>\n",
       "<table border=\"1\" class=\"dataframe\">\n",
       "  <thead>\n",
       "    <tr style=\"text-align: right;\">\n",
       "      <th></th>\n",
       "      <th>AAPL</th>\n",
       "      <th>MSFT</th>\n",
       "      <th>TSLA</th>\n",
       "      <th>MCD</th>\n",
       "      <th>BK</th>\n",
       "    </tr>\n",
       "    <tr>\n",
       "      <th>dt</th>\n",
       "      <th></th>\n",
       "      <th></th>\n",
       "      <th></th>\n",
       "      <th></th>\n",
       "      <th></th>\n",
       "    </tr>\n",
       "  </thead>\n",
       "  <tbody>\n",
       "    <tr>\n",
       "      <th>2017-10-02 13:31:00</th>\n",
       "      <td>420042.0</td>\n",
       "      <td>409211.0</td>\n",
       "      <td>49907.0</td>\n",
       "      <td>85774.0</td>\n",
       "      <td>30276.0</td>\n",
       "    </tr>\n",
       "    <tr>\n",
       "      <th>2017-10-02 13:32:00</th>\n",
       "      <td>161960.0</td>\n",
       "      <td>49207.0</td>\n",
       "      <td>18480.0</td>\n",
       "      <td>6866.0</td>\n",
       "      <td>4511.0</td>\n",
       "    </tr>\n",
       "    <tr>\n",
       "      <th>2017-10-02 13:33:00</th>\n",
       "      <td>118283.0</td>\n",
       "      <td>24043.0</td>\n",
       "      <td>47039.0</td>\n",
       "      <td>3000.0</td>\n",
       "      <td>3001.0</td>\n",
       "    </tr>\n",
       "    <tr>\n",
       "      <th>2017-10-02 13:34:00</th>\n",
       "      <td>103544.0</td>\n",
       "      <td>62383.0</td>\n",
       "      <td>13444.0</td>\n",
       "      <td>4364.0</td>\n",
       "      <td>900.0</td>\n",
       "    </tr>\n",
       "    <tr>\n",
       "      <th>2017-10-02 13:35:00</th>\n",
       "      <td>88012.0</td>\n",
       "      <td>40175.0</td>\n",
       "      <td>36556.0</td>\n",
       "      <td>820.0</td>\n",
       "      <td>1500.0</td>\n",
       "    </tr>\n",
       "  </tbody>\n",
       "</table>\n",
       "</div>"
      ],
      "text/plain": [
       "                         AAPL      MSFT     TSLA      MCD       BK\n",
       "dt                                                                \n",
       "2017-10-02 13:31:00  420042.0  409211.0  49907.0  85774.0  30276.0\n",
       "2017-10-02 13:32:00  161960.0   49207.0  18480.0   6866.0   4511.0\n",
       "2017-10-02 13:33:00  118283.0   24043.0  47039.0   3000.0   3001.0\n",
       "2017-10-02 13:34:00  103544.0   62383.0  13444.0   4364.0    900.0\n",
       "2017-10-02 13:35:00   88012.0   40175.0  36556.0    820.0   1500.0"
      ]
     },
     "metadata": {},
     "output_type": "display_data"
    }
   ],
   "source": [
    "import numpy as np\n",
    "import pandas as pd\n",
    "from IPython.display import display\n",
    "import matplotlib.pyplot as plt\n",
    "\n",
    "prices_df = pd.read_csv('prices.csv', index_col='dt', parse_dates=['dt'])\n",
    "volumes_df = pd.read_csv('volumes.csv', index_col='dt', parse_dates=['dt'])\n",
    "\n",
    "display(prices_df.head())\n",
    "display(volumes_df.head())"
   ]
  },
  {
   "cell_type": "code",
   "execution_count": 2,
   "metadata": {},
   "outputs": [],
   "source": [
    "prices = prices_df.values\n",
    "volumes = volumes_df.values\n",
    "timestamps = prices_df.index.values"
   ]
  },
  {
   "cell_type": "code",
   "execution_count": 3,
   "metadata": {},
   "outputs": [
    {
     "data": {
      "text/plain": [
       "array(['2017-10-02T13:31:00.000000000', '2017-10-02T13:32:00.000000000',\n",
       "       '2017-10-02T13:33:00.000000000', ...,\n",
       "       '2017-10-31T19:58:00.000000000', '2017-10-31T19:59:00.000000000',\n",
       "       '2017-10-31T20:00:00.000000000'], dtype='datetime64[ns]')"
      ]
     },
     "execution_count": 3,
     "metadata": {},
     "output_type": "execute_result"
    }
   ],
   "source": [
    "timestamps"
   ]
  },
  {
   "cell_type": "markdown",
   "metadata": {},
   "source": [
    "**Exercise:** Compute the average price for each stock."
   ]
  },
  {
   "cell_type": "code",
   "execution_count": 4,
   "metadata": {},
   "outputs": [
    {
     "data": {
      "text/plain": [
       "array([157.75380932,  77.94156573, 344.60197273, 162.96289044,\n",
       "        53.29279184])"
      ]
     },
     "execution_count": 4,
     "metadata": {},
     "output_type": "execute_result"
    }
   ],
   "source": [
    "prices.mean(axis=0)"
   ]
  },
  {
   "cell_type": "markdown",
   "metadata": {},
   "source": [
    "**Exercise:** Compute the average volume for each stock."
   ]
  },
  {
   "cell_type": "code",
   "execution_count": 5,
   "metadata": {},
   "outputs": [
    {
     "data": {
      "text/plain": [
       "array([47083.83321678, 39618.75745921, 10911.53310023,  5934.88356643,\n",
       "        7774.04487179])"
      ]
     },
     "execution_count": 5,
     "metadata": {},
     "output_type": "execute_result"
    }
   ],
   "source": [
    "volumes.mean(axis=0)"
   ]
  },
  {
   "cell_type": "markdown",
   "metadata": {},
   "source": [
    "**Exercise:** Compute the number of times that each stock's price increased."
   ]
  },
  {
   "cell_type": "code",
   "execution_count": 7,
   "metadata": {},
   "outputs": [
    {
     "data": {
      "text/plain": [
       "array([4095, 3957, 4257, 4018, 3570])"
      ]
     },
     "execution_count": 7,
     "metadata": {},
     "output_type": "execute_result"
    }
   ],
   "source": [
    "(np.diff(prices, axis=0) > 0).sum(axis=0)"
   ]
  },
  {
   "cell_type": "markdown",
   "metadata": {},
   "source": [
    "**Exercise:** Compute the volume-weighted average price of all 5 stocks."
   ]
  },
  {
   "cell_type": "code",
   "execution_count": 8,
   "metadata": {},
   "outputs": [
    {
     "data": {
      "text/plain": [
       "array([158.70686244,  79.33035404, 343.7402141 , 163.62733541,\n",
       "        52.92935945])"
      ]
     },
     "execution_count": 8,
     "metadata": {},
     "output_type": "execute_result"
    }
   ],
   "source": [
    "np.average(prices, axis=0, weights=volumes)"
   ]
  },
  {
   "cell_type": "markdown",
   "metadata": {},
   "source": [
    "**Exercise:** Compute the timestamps where the lowest price occurred for each stock."
   ]
  },
  {
   "cell_type": "code",
   "execution_count": 11,
   "metadata": {},
   "outputs": [
    {
     "name": "stdout",
     "output_type": "stream",
     "text": [
      "['2017-10-04T14:47:00.000000000' '2017-10-04T14:41:00.000000000'\n",
      " '2017-10-27T13:50:00.000000000' '2017-10-02T14:02:00.000000000'\n",
      " '2017-10-25T16:31:00.000000000']\n"
     ]
    }
   ],
   "source": [
    "print(timestamps[np.argmin(prices, axis=0)])"
   ]
  },
  {
   "cell_type": "markdown",
   "metadata": {},
   "source": [
    "**Exercise:** Compute the average volume for each minute of the day, aggregated across all 5 stocks.\n",
    "\n",
    "A correct answer should show that volumes are at their highest at the beginning and end of the day, with a relatively low and flat curve during the day.\n",
    "\n",
    "(**HINT:** There are exactly 390 trading minutes in each day in this dataset.)"
   ]
  },
  {
   "cell_type": "code",
   "execution_count": 30,
   "metadata": {},
   "outputs": [
    {
     "data": {
      "text/plain": [
       "array([29031100.,  7509214.,  8226928.,  6759109.,  6249242.,  7035908.,\n",
       "        6147214.,  5436660.,  5119207.,  5092034.,  4980700.,  5113490.,\n",
       "        5077632.,  4817123.,  4823413.,  4639989.,  4981677.,  4286049.,\n",
       "        4408734.,  4037619.,  4362682.,  4528514.,  4820237.,  4497222.,\n",
       "        4490837.,  4366405.,  4032038.,  3616295.,  3717997.,  4449946.,\n",
       "        4892766.,  4088096.,  3897711.,  3703538.,  3552418.,  3926909.,\n",
       "        3773569.,  3745476.,  3538597.,  3718324.,  3628428.,  3362865.,\n",
       "        3357016.,  3236243.,  3322587.,  3632337.,  3228203.,  2801854.,\n",
       "        3523461.,  3190180.,  3434624.,  3147993.,  2950505.,  2863770.,\n",
       "        3017006.,  3261998.,  2572259.,  3026572.,  2650053.,  2602113.,\n",
       "        3267138.,  3101799.,  3047606.,  2732906.,  2589417.,  2772828.,\n",
       "        2577330.,  2756297.,  2738689.,  2517629.,  2941712.,  2685451.,\n",
       "        2636527.,  2237435.,  2371354.,  2407560.,  2104394.,  2494019.,\n",
       "        2189391.,  2633241.,  2377778.,  2374142.,  2368715.,  2270894.,\n",
       "        2336476.,  2544212.,  2231665.,  2075682.,  2095414.,  2125369.,\n",
       "        2408165.,  2259440.,  2389797.,  2169454.,  2067085.,  2260844.,\n",
       "        2402653.,  2348331.,  2175834.,  2054040.,  2208926.,  2044661.,\n",
       "        1949514.,  2195284.,  2362278.,  2827917.,  2816800.,  2497086.,\n",
       "        2488366.,  2099106.,  2245509.,  2329265.,  2250200.,  2119793.,\n",
       "        1988627.,  2121022.,  2250222.,  1901190.,  2198035.,  2454078.,\n",
       "        2298634.,  2030207.,  2520596.,  2176988.,  2016094.,  2334164.,\n",
       "        2128887.,  1860061.,  1653006.,  1903559.,  1837598.,  1892727.,\n",
       "        1660324.,  1725313.,  1985316.,  1809700.,  1888473.,  1616434.,\n",
       "        1738710.,  1740252.,  1608184.,  1844160.,  1875661.,  1771723.,\n",
       "        1518234.,  1835500.,  2205115.,  1878274.,  1776105.,  1816007.,\n",
       "        2150912.,  2049735.,  1790722.,  1831312.,  1802970.,  1943399.,\n",
       "        1942988.,  2213133.,  1825263.,  1743015.,  1860783.,  1947934.,\n",
       "        1638557.,  1992525.,  1616757.,  1933246.,  1935926.,  2199723.,\n",
       "        1789883.,  1607529.,  1736227.,  1886336.,  1839374.,  1786884.,\n",
       "        1910635.,  1545523.,  1563907.,  1468053.,  1484494.,  1671860.,\n",
       "        1772113.,  1760445.,  1468472.,  1492345.,  1559045.,  1511868.,\n",
       "        1801478.,  1813479.,  1488275.,  1691375.,  1594023.,  1405076.,\n",
       "        1451852.,  1402035.,  1613413.,  1911499.,  1425631.,  1493400.,\n",
       "        1741217.,  1438658.,  1354565.,  1285003.,  1439648.,  1689842.,\n",
       "        1482078.,  1456281.,  1435488.,  1143776.,  1344898.,  1393555.,\n",
       "        1556774.,  1577470.,  1414463.,  1442720.,  1529813.,  1328790.,\n",
       "        1192029.,  1321632.,  1227169.,  1390815.,  1445138.,  1525520.,\n",
       "        1202458.,  1338046.,  1210080.,  1299163.,  1286128.,  1379127.,\n",
       "        1325625.,  1314708.,  1406879.,  1175260.,  1309793.,  1161057.,\n",
       "        1031351.,  1265158.,  1168737.,  1222584.,  1098823.,  1228154.,\n",
       "        1192653.,  1359893.,  1334701.,  1373063.,  1648012.,  1562849.,\n",
       "        1781631.,  1343443.,  1475379.,  1399320.,  1573404.,  1482295.,\n",
       "        1491137.,  1308754.,  1340524.,  1266278.,  1463001.,  1295432.,\n",
       "        1373277.,  1387304.,  1631019.,  1416622.,  1558786.,  1309834.,\n",
       "        1619332.,  1240829.,  1320693.,  1364475.,  1311718.,  1554986.,\n",
       "        1469745.,  1542980.,  1763068.,  1344174.,  1581648.,  1421958.,\n",
       "        1378294.,  1530556.,  1567515.,  1469045.,  1608769.,  1549782.,\n",
       "        1367397.,  1361735.,  1629582.,  1514521.,  1538718.,  1704179.,\n",
       "        1446991.,  1677431.,  1591889.,  1420205.,  1364769.,  1522322.,\n",
       "        1525449.,  1474556.,  1444513.,  1410552.,  1389979.,  1327615.,\n",
       "        1770332.,  1503637.,  1404904.,  1522234.,  1561958.,  1474601.,\n",
       "        1436117.,  1484878.,  1382702.,  1325616.,  1685679.,  1466452.,\n",
       "        1649608.,  1627549.,  1372719.,  1493225.,  1718116.,  1492760.,\n",
       "        1473174.,  1725628.,  1592345.,  1674012.,  1794186.,  1630582.,\n",
       "        1565529.,  1669630.,  1506318.,  1669440.,  1442504.,  1585869.,\n",
       "        1953728.,  1951608.,  2030684.,  1949447.,  2126642.,  1916432.,\n",
       "        1941660.,  1819488.,  1760810.,  1571886.,  1908270.,  1622653.,\n",
       "        2214695.,  1839335.,  1962295.,  1964683.,  1962985.,  1683421.,\n",
       "        1771263.,  2033422.,  2054925.,  2035344.,  1681015.,  2015125.,\n",
       "        1795851.,  2267103.,  2019874.,  1952792.,  2130451.,  2325864.,\n",
       "        2748636.,  2281443.,  2415792.,  2290525.,  2369597.,  2594936.,\n",
       "        2594080.,  2341752.,  2581459.,  2393025.,  2578781.,  2838027.,\n",
       "        2963701.,  2960261.,  3689202.,  4170073.,  3598627.,  3685444.,\n",
       "        3711191.,  4269719.,  9719773.,  4873808.,  4668155.,  4949033.,\n",
       "        5215562.,  7205035.,  6967033.,  7954880.,  9807452., 23346964.])"
      ]
     },
     "execution_count": 30,
     "metadata": {},
     "output_type": "execute_result"
    }
   ],
   "source": [
    "# Sum the volume across all stocks for each minute.\n",
    "# shape: (8580,)\n",
    "total_volume = volumes.sum(axis=1)\n",
    "\n",
    "# Reshape so that we have a row per day, \n",
    "# and a column per minute within that day.\n",
    "# shape: (22, 390)\n",
    "grouped_volumes = total_volume.reshape(22, 390)\n",
    "\n",
    "average_volume_per_minute = grouped_volumes.sum(axis=0)\n",
    "average_volume_per_minute"
   ]
  },
  {
   "cell_type": "markdown",
   "metadata": {},
   "source": [
    "Surprisingly to many people, volume isn't"
   ]
  },
  {
   "cell_type": "code",
   "execution_count": 31,
   "metadata": {},
   "outputs": [
    {
     "data": {
      "text/plain": [
       "[<matplotlib.lines.Line2D at 0x7efee83f1ba8>]"
      ]
     },
     "execution_count": 31,
     "metadata": {},
     "output_type": "execute_result"
    },
    {
     "data": {
      "image/png": "[encoded data removed]",
      "text/plain": [
       "<Figure size 432x288 with 1 Axes>"
      ]
     },
     "metadata": {},
     "output_type": "display_data"
    }
   ],
   "source": [
    "plt.plot(average_volume_per_minute)"
   ]
  }
 ],
 "metadata": {
  "kernelspec": {
   "display_name": "Python 3",
   "language": "python",
   "name": "python3"
  },
  "language_info": {
   "codemirror_mode": {
    "name": "ipython",
    "version": 3
   },
   "file_extension": ".py",
   "mimetype": "text/x-python",
   "name": "python",
   "nbconvert_exporter": "python",
   "pygments_lexer": "ipython3",
   "version": "3.5.2"
  }
 },
 "nbformat": 4,
 "nbformat_minor": 2
}
